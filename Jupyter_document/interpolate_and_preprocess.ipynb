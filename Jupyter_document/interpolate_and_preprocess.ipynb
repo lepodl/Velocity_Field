{
 "cells": [
  {
   "cell_type": "code",
   "execution_count": 1,
   "metadata": {
    "collapsed": true
   },
   "outputs": [],
   "source": [
    "import numpy as np\n",
    "import h5py\n",
    "import sparse\n"
   ]
  },
  {
   "cell_type": "code",
   "execution_count": 2,
   "outputs": [],
   "source": [
    "import os\n",
    "project_path = \"../\"\n",
    "data_path = os.path.join(project_path, \"Data/raw_data\")\n"
   ],
   "metadata": {
    "collapsed": false,
    "pycharm": {
     "name": "#%%\n"
    }
   }
  },
  {
   "cell_type": "code",
   "execution_count": null,
   "outputs": [],
   "source": [
    "coordinate_path = os.path.join(data_path, \"DTI_voxel_network.mat\")\n",
    "xyz = h5py.File(coordinate_path, \"r\")[\"dti_xyz2\"][:]\n",
    "coordinate_min = np.empty(3, dtype=np.int64)\n",
    "coordinate_max = np.empty(3, dtype=np.int64)\n",
    "for i in range(xyz.shape[1]):\n",
    "    print(f\"{i}th coordinate: min {xyz[:, i].min()}, max {xyz[:, i].max()}\")\n",
    "    coordinate_min[i] = xyz[:, i].min()\n",
    "    coordinate_max[i] = xyz[:, i].max()\n",
    "xyz = xyz - coordinate_min\n",
    "for i in range(xyz.shape[1]):\n",
    "    print(f\"{i}th coordinate: min {xyz[:, i].min()}, max {xyz[:, i].max()}\")\n",
    "    coordinate_min[i] = xyz[:, i].min()\n",
    "    coordinate_max[i] = xyz[:, i].max()\n",
    "shape = [coordinate_max[0] + 1, coordinate_max[1] + 1, coordinate_max[2] + 1, t]\n",
    "coords = np.empty([3, vmean_.shape[1] * vmean_.shape[0]], dtype=np.int64)\n",
    "coords[(0, 1, 2), :] = np.broadcast_to(xyz_new[:, :, None], (xyz_new.shape[0], xyz_new.shape[1], t)).reshape(\n",
    "    (3, -1))\n",
    "coords[3, :] = np.broadcast_to(np.arange(t, dtype=np.int64), (vmean_.shape[1], t)).reshape(-1)\n",
    "data = vmean_.T.reshape(-1)\n",
    "vmean_with_coordinate_sparse = sparse.COO(coords=coords, data=data, shape=shape)\n",
    "sparse.save_npz(os.path.join(data_path, \"vmean_with_coordinate_sparse.npz\"), vmean_with_coordinate_sparse)"
   ],
   "metadata": {
    "collapsed": false,
    "pycharm": {
     "name": "#%%\n"
    }
   }
  }
 ],
 "metadata": {
  "kernelspec": {
   "display_name": "Python 3",
   "language": "python",
   "name": "python3"
  },
  "language_info": {
   "codemirror_mode": {
    "name": "ipython",
    "version": 2
   },
   "file_extension": ".py",
   "mimetype": "text/x-python",
   "name": "python",
   "nbconvert_exporter": "python",
   "pygments_lexer": "ipython2",
   "version": "2.7.6"
  }
 },
 "nbformat": 4,
 "nbformat_minor": 0
}