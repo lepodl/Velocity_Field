{
 "cells": [
  {
   "cell_type": "markdown",
   "metadata": {
    "collapsed": true,
    "pycharm": {
     "name": "#%% md\n"
    }
   },
   "source": [
    "## 3d Visualization by mlab.points3d"
   ]
  },
  {
   "cell_type": "code",
   "execution_count": 2,
   "outputs": [
    {
     "name": "stdout",
     "output_type": "stream",
     "text": [
      "xyz shape (22703, 3)\n"
     ]
    }
   ],
   "source": [
    "import h5py\n",
    "file = h5py.File(\"../Data/raw_data/DTI_voxel_network.mat\", \"r\")\n",
    "xyz = file[\"dti_xyz2\"][:]\n",
    "print(\"xyz shape\", xyz.shape)\n",
    "from mayavi import mlab\n",
    "x, y, z = xyz[:, 0], xyz[:, 1], xyz[:, 2]\n",
    "mlab.points3d(x, y, z, )\n",
    "mlab.show()"
   ],
   "metadata": {
    "collapsed": false,
    "pycharm": {
     "name": "#%%\n"
    }
   }
  }
 ],
 "metadata": {
  "kernelspec": {
   "display_name": "Python 3",
   "language": "python",
   "name": "python3"
  },
  "language_info": {
   "codemirror_mode": {
    "name": "ipython",
    "version": 2
   },
   "file_extension": ".py",
   "mimetype": "text/x-python",
   "name": "python",
   "nbconvert_exporter": "python",
   "pygments_lexer": "ipython2",
   "version": "2.7.6"
  }
 },
 "nbformat": 4,
 "nbformat_minor": 0
}